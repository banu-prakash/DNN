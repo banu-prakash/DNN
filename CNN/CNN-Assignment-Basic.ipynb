{
 "cells": [
  {
   "cell_type": "markdown",
   "metadata": {
    "deletable": true,
    "editable": true
   },
   "source": [
    "### What is CNN ?\n",
    "\n",
    "\n",
    "#### A CNN is a neural network that typically contains several types of layers, which includes :-\n",
    "\n",
    "* convolutional layer \n",
    "* pooling layer, and \n",
    "* activation layer."
   ]
  },
  {
   "cell_type": "markdown",
   "metadata": {
    "deletable": true,
    "editable": true
   },
   "source": [
    "## Convolutional Layer\n",
    "\n",
    "* To understand what a CNN is, you need to understand how convolutions work. \n",
    "\n",
    "* Imagine you have an image represented as a 5x5 matrix of values, and you take a 3x3 matrix and slide that 3x3 window around the image. \n",
    "\n",
    "* At each position the 3x3 visits, you matrix multiply the values of your 3x3 window by the values in the image that are currently being covered by the window. \n",
    "\n",
    "* This results in a single number the represents all the values in that window of the image. \n",
    "\n",
    "Here’s a gif for clarity:"
   ]
  },
  {
   "cell_type": "markdown",
   "metadata": {
    "deletable": true,
    "editable": true
   },
   "source": [
    "![Conv Gif](./conv.gif)"
   ]
  },
  {
   "cell_type": "markdown",
   "metadata": {
    "deletable": true,
    "editable": true
   },
   "source": [
    "## Level - 1 - Code the Convolutional Layer\n"
   ]
  },
  {
   "cell_type": "markdown",
   "metadata": {
    "deletable": true,
    "editable": true
   },
   "source": [
    "![Detailed Conv Gif](./conv_detailed.gif)"
   ]
  },
  {
   "cell_type": "markdown",
   "metadata": {
    "deletable": true,
    "editable": true
   },
   "source": [
    "### Question 1"
   ]
  },
  {
   "cell_type": "code",
   "execution_count": 1,
   "metadata": {
    "collapsed": true,
    "deletable": true,
    "editable": true
   },
   "outputs": [],
   "source": [
    "# Write a function which does the convolution.\n",
    "# Code for a 3d Matrix\n",
    "# Before writing out code, write function header with parameters and get it reviewed by Mentors"
   ]
  },
  {
   "cell_type": "code",
   "execution_count": 2,
   "metadata": {
    "collapsed": true,
    "deletable": true,
    "editable": true
   },
   "outputs": [],
   "source": [
    "import numpy as np"
   ]
  },
  {
   "cell_type": "code",
   "execution_count": 3,
   "metadata": {
    "collapsed": true,
    "deletable": true,
    "editable": true
   },
   "outputs": [],
   "source": [
    "a=np.zeros((3,7,7))\n",
    "a=np.arange(147).reshape(3,7,7)"
   ]
  },
  {
   "cell_type": "code",
   "execution_count": 4,
   "metadata": {
    "collapsed": true,
    "deletable": true,
    "editable": true
   },
   "outputs": [],
   "source": [
    "c = np.arange(27).reshape(3,3,3)"
   ]
  },
  {
   "cell_type": "code",
   "execution_count": 5,
   "metadata": {
    "collapsed": true,
    "deletable": true,
    "editable": true
   },
   "outputs": [],
   "source": [
    "def matrix_extraction(matrix, convolution, step):\n",
    "    matrows = matrix.shape[0]\n",
    "    matcols = matrix.shape[1]\n",
    "    convrows = convolution.shape[0]\n",
    "    convcols = convolution.shape[1]\n",
    "    temp = []\n",
    "    for row in range(0,matrows,step):\n",
    "        if (row+convrows)<=matrows:\n",
    "            for col in range(0,matcols,step):\n",
    "                if (col+convcols)<=matcols:\n",
    "                    q = matrix[row:row+convrows,col:col+convcols]\n",
    "                    temp.append(q)\n",
    "    temp = np.array(temp)\n",
    "    return temp      "
   ]
  },
  {
   "cell_type": "code",
   "execution_count": 6,
   "metadata": {
    "collapsed": true,
    "deletable": true,
    "editable": true
   },
   "outputs": [],
   "source": [
    "def compute_convolution(matrix,convolution,submatrix, step,bias):\n",
    "    matrows = matrix.shape[0]\n",
    "    matcols = matrix.shape[1]\n",
    "    convrows = convolution.shape[0]\n",
    "    convcols = convolution.shape[1]\n",
    "    oprows = ((matrows-convrows)//step)+1\n",
    "    opcols = ((matcols-convcols)//step)+1\n",
    "    temp = []\n",
    "    for num in submatrix:\n",
    "        q = ((num*convolution)+bias).sum()\n",
    "        temp.append(q)\n",
    "    temp = np.array(temp)\n",
    "    conv = temp.reshape(oprows,opcols)\n",
    "    return conv "
   ]
  },
  {
   "cell_type": "code",
   "execution_count": 7,
   "metadata": {
    "collapsed": true,
    "deletable": true,
    "editable": true
   },
   "outputs": [],
   "source": [
    "def convolution(matrix,convolution,step,bias):\n",
    "    height = matrix.shape[0]\n",
    "    rows = matrix.shape[1]\n",
    "    cols = matrix.shape[2]\n",
    "    final = []\n",
    "    for h in range(0,height):\n",
    "        sub = matrix_extraction(matrix[h],convolution[h],step)\n",
    "        conv_layer = compute_convolution(matrix[h],convolution[h],sub,step,bias)\n",
    "        final.append(conv_layer)\n",
    "    return final"
   ]
  },
  {
   "cell_type": "code",
   "execution_count": 8,
   "metadata": {
    "collapsed": false,
    "deletable": true,
    "editable": true
   },
   "outputs": [],
   "source": [
    "convolved_feature = convolution(a,c,1,1)"
   ]
  },
  {
   "cell_type": "code",
   "execution_count": 9,
   "metadata": {
    "collapsed": false,
    "deletable": true,
    "editable": true
   },
   "outputs": [],
   "source": [
    "#final"
   ]
  },
  {
   "cell_type": "markdown",
   "metadata": {
    "deletable": true,
    "editable": true
   },
   "source": [
    "## Pooling Layers\n",
    "\n",
    "* Pooling works very much like convoluting, where we take a kernel and move the kernel over the image, the only difference is the function that is applied to the kernel and the image window isn’t linear.\n",
    "\n",
    "* Max pooling and Average pooling are the most common pooling functions. \n",
    "\n",
    "* Max pooling takes the largest value from the window of the image currently covered by the kernel, while average pooling takes the average of all values in the window."
   ]
  },
  {
   "cell_type": "markdown",
   "metadata": {
    "deletable": true,
    "editable": true
   },
   "source": [
    "![Pooling Gif](./pooling.gif)"
   ]
  },
  {
   "cell_type": "markdown",
   "metadata": {
    "deletable": true,
    "editable": true
   },
   "source": [
    "## Level - 2 - Code the Pooling Layer"
   ]
  },
  {
   "cell_type": "markdown",
   "metadata": {
    "deletable": true,
    "editable": true
   },
   "source": [
    "![Detailed Conv Gif](./Max_pooling.png)"
   ]
  },
  {
   "cell_type": "markdown",
   "metadata": {
    "deletable": true,
    "editable": true
   },
   "source": [
    "### Question 1"
   ]
  },
  {
   "cell_type": "code",
   "execution_count": 10,
   "metadata": {
    "collapsed": true,
    "deletable": true,
    "editable": true
   },
   "outputs": [],
   "source": [
    "# Write a function which does the max pooling.\n",
    "# Code for a 3d Matrix\n",
    "# Before writing out code, write function header with parameters and get it reviewed by Mentors"
   ]
  },
  {
   "cell_type": "code",
   "execution_count": 11,
   "metadata": {
    "collapsed": true,
    "deletable": true,
    "editable": true
   },
   "outputs": [],
   "source": [
    "import numpy as np"
   ]
  },
  {
   "cell_type": "code",
   "execution_count": 12,
   "metadata": {
    "collapsed": false,
    "deletable": true,
    "editable": true
   },
   "outputs": [],
   "source": [
    "a=np.zeros((3,7,7))\n",
    "a=np.arange(147).reshape(3,7,7)"
   ]
  },
  {
   "cell_type": "code",
   "execution_count": 13,
   "metadata": {
    "collapsed": false,
    "deletable": true,
    "editable": true
   },
   "outputs": [],
   "source": [
    "c = np.arange(27).reshape(3,3,3)"
   ]
  },
  {
   "cell_type": "code",
   "execution_count": 14,
   "metadata": {
    "collapsed": false,
    "deletable": true,
    "editable": true
   },
   "outputs": [],
   "source": [
    "def matrix_extraction(matrix, convolution, step):\n",
    "    matrows = matrix.shape[0]\n",
    "    matcols = matrix.shape[1]\n",
    "    convrows = convolution.shape[0]\n",
    "    convcols = convolution.shape[1]\n",
    "    temp = []\n",
    "    for row in range(0,matrows,step):\n",
    "        if (row+convrows)<=matrows:\n",
    "            for col in range(0,matcols,step):\n",
    "                if (col+convcols)<=matcols:\n",
    "                    q = matrix[row:row+convrows,col:col+convcols]\n",
    "                    temp.append(q)\n",
    "    temp = np.array(temp)\n",
    "    return temp      "
   ]
  },
  {
   "cell_type": "code",
   "execution_count": 15,
   "metadata": {
    "collapsed": false,
    "deletable": true,
    "editable": true
   },
   "outputs": [],
   "source": [
    "def compute_maxpool(matrix,convolution,submatrix, step,bias):\n",
    "    matrows = matrix.shape[0]\n",
    "    matcols = matrix.shape[1]\n",
    "    convrows = convolution.shape[0]\n",
    "    convcols = convolution.shape[1]\n",
    "    oprows = ((matrows-convrows)//step)+1\n",
    "    opcols = ((matcols-convcols)//step)+1\n",
    "    temp = []\n",
    "    for num in submatrix:\n",
    "        q = np.amax((num*convolution)+bias)\n",
    "        temp.append(q)\n",
    "    temp = np.array(temp)\n",
    "    conv = temp.reshape(oprows,opcols)\n",
    "    return conv "
   ]
  },
  {
   "cell_type": "code",
   "execution_count": 16,
   "metadata": {
    "collapsed": true,
    "deletable": true,
    "editable": true
   },
   "outputs": [],
   "source": [
    "def maxpool(matrix,convolution,step,bias):\n",
    "    height = matrix.shape[0]\n",
    "    rows = matrix.shape[1]\n",
    "    cols = matrix.shape[2]\n",
    "    final = []\n",
    "    for h in range(0,height):\n",
    "        sub = matrix_extraction(matrix[h],convolution[h],step)\n",
    "        conv_layer = compute_maxpool(matrix[h],convolution[h],sub,step,bias)\n",
    "        final.append(conv_layer)\n",
    "    return final"
   ]
  },
  {
   "cell_type": "code",
   "execution_count": 17,
   "metadata": {
    "collapsed": false,
    "deletable": true,
    "editable": true
   },
   "outputs": [],
   "source": [
    "final = maxpool(a,c,2,0)"
   ]
  },
  {
   "cell_type": "code",
   "execution_count": null,
   "metadata": {
    "collapsed": false,
    "deletable": true,
    "editable": true
   },
   "outputs": [],
   "source": []
  },
  {
   "cell_type": "markdown",
   "metadata": {
    "deletable": true,
    "editable": true
   },
   "source": [
    "### Question 2"
   ]
  },
  {
   "cell_type": "code",
   "execution_count": 18,
   "metadata": {
    "collapsed": true,
    "deletable": true,
    "editable": true
   },
   "outputs": [],
   "source": [
    "# Write a function which does the average convolution.\n",
    "# Code for a 3d Matrix\n",
    "# Before writing out code, write function header with parameters and get it reviewed by Mentors"
   ]
  },
  {
   "cell_type": "markdown",
   "metadata": {
    "deletable": true,
    "editable": true
   },
   "source": [
    "# Lets Load an image and visualize the Conv and Pool"
   ]
  },
  {
   "cell_type": "markdown",
   "metadata": {
    "deletable": true,
    "editable": true
   },
   "source": [
    "### Load the Conv and Max pool using Keras"
   ]
  },
  {
   "cell_type": "code",
   "execution_count": 19,
   "metadata": {
    "collapsed": false,
    "deletable": true,
    "editable": true
   },
   "outputs": [
    {
     "name": "stderr",
     "output_type": "stream",
     "text": [
      "Using TensorFlow backend.\n"
     ]
    },
    {
     "ename": "ImportError",
     "evalue": "No module named 'cv2'",
     "output_type": "error",
     "traceback": [
      "\u001b[0;31m---------------------------------------------------------------------------\u001b[0m",
      "\u001b[0;31mImportError\u001b[0m                               Traceback (most recent call last)",
      "\u001b[0;32m<ipython-input-19-dcad2f93696a>\u001b[0m in \u001b[0;36m<module>\u001b[0;34m()\u001b[0m\n\u001b[1;32m      5\u001b[0m \u001b[0;32mimport\u001b[0m \u001b[0mnumpy\u001b[0m \u001b[0;32mas\u001b[0m \u001b[0mnp\u001b[0m\u001b[0;34m\u001b[0m\u001b[0m\n\u001b[1;32m      6\u001b[0m \u001b[0;32mimport\u001b[0m \u001b[0mmatplotlib\u001b[0m\u001b[0;34m.\u001b[0m\u001b[0mpyplot\u001b[0m \u001b[0;32mas\u001b[0m \u001b[0mplt\u001b[0m\u001b[0;34m\u001b[0m\u001b[0m\n\u001b[0;32m----> 7\u001b[0;31m \u001b[0;32mimport\u001b[0m \u001b[0mcv2\u001b[0m  \u001b[0;31m# only used for loading the image, you can use anything that returns the image as a np.ndarray\u001b[0m\u001b[0;34m\u001b[0m\u001b[0m\n\u001b[0m\u001b[1;32m      8\u001b[0m \u001b[0;34m\u001b[0m\u001b[0m\n\u001b[1;32m      9\u001b[0m \u001b[0mget_ipython\u001b[0m\u001b[0;34m(\u001b[0m\u001b[0;34m)\u001b[0m\u001b[0;34m.\u001b[0m\u001b[0mmagic\u001b[0m\u001b[0;34m(\u001b[0m\u001b[0;34m'matplotlib inline'\u001b[0m\u001b[0;34m)\u001b[0m\u001b[0;34m\u001b[0m\u001b[0m\n",
      "\u001b[0;31mImportError\u001b[0m: No module named 'cv2'"
     ]
    }
   ],
   "source": [
    "from keras.layers import Convolution2D, MaxPooling2D, Activation\n",
    "from keras.models import Sequential\n",
    "\n",
    "\n",
    "import numpy as np\n",
    "import matplotlib.pyplot as plt\n",
    "import cv2  # only used for loading the image, you can use anything that returns the image as a np.ndarray\n",
    "\n",
    "%matplotlib inline"
   ]
  },
  {
   "cell_type": "markdown",
   "metadata": {
    "deletable": true,
    "editable": true
   },
   "source": [
    "### Display the image"
   ]
  },
  {
   "cell_type": "code",
   "execution_count": null,
   "metadata": {
    "collapsed": false,
    "deletable": true,
    "editable": true
   },
   "outputs": [],
   "source": [
    "image = cv2.imread('beer.png') # Please load different Images to explore "
   ]
  },
  {
   "cell_type": "code",
   "execution_count": null,
   "metadata": {
    "collapsed": false,
    "deletable": true,
    "editable": true
   },
   "outputs": [],
   "source": [
    "plt.imshow(image)"
   ]
  },
  {
   "cell_type": "code",
   "execution_count": null,
   "metadata": {
    "collapsed": false,
    "deletable": true,
    "editable": true
   },
   "outputs": [],
   "source": [
    "# what does the image look like?\n",
    "image[5][10]"
   ]
  },
  {
   "cell_type": "markdown",
   "metadata": {
    "deletable": true,
    "editable": true
   },
   "source": [
    "## Level 3 - Performing and Understading Convolutions "
   ]
  },
  {
   "cell_type": "markdown",
   "metadata": {
    "deletable": true,
    "editable": true
   },
   "source": [
    "### Question 1 "
   ]
  },
  {
   "cell_type": "markdown",
   "metadata": {
    "deletable": true,
    "editable": true
   },
   "source": [
    "### Why it has 3 dimensions ?? "
   ]
  },
  {
   "cell_type": "markdown",
   "metadata": {
    "deletable": true,
    "editable": true
   },
   "source": [
    "Answer - R,G,B Values for a coloured image"
   ]
  },
  {
   "cell_type": "markdown",
   "metadata": {
    "deletable": true,
    "editable": true
   },
   "source": [
    "## Play Around with below code to enhance your understanding of CNN"
   ]
  },
  {
   "cell_type": "markdown",
   "metadata": {
    "deletable": true,
    "editable": true
   },
   "source": [
    "## Lets create a model with 1 Convolutional layer"
   ]
  },
  {
   "cell_type": "markdown",
   "metadata": {
    "deletable": true,
    "editable": true
   },
   "source": [
    "### Question 2"
   ]
  },
  {
   "cell_type": "markdown",
   "metadata": {
    "deletable": true,
    "editable": true
   },
   "source": [
    "### Please fill in the comments "
   ]
  },
  {
   "cell_type": "code",
   "execution_count": null,
   "metadata": {
    "collapsed": false,
    "deletable": true,
    "editable": true
   },
   "outputs": [],
   "source": [
    "model = Sequential()\n",
    "model.add(Convolution2D(3,    # number of filters\n",
    "                        (3,    # length dimension of kernel \n",
    "                        3),    # width dimension of kernel\n",
    "                        input_shape=image.shape))"
   ]
  },
  {
   "cell_type": "code",
   "execution_count": null,
   "metadata": {
    "collapsed": true,
    "deletable": true,
    "editable": true
   },
   "outputs": [],
   "source": [
    "image_batch = np.expand_dims(image,axis=0)"
   ]
  },
  {
   "cell_type": "markdown",
   "metadata": {
    "deletable": true,
    "editable": true
   },
   "source": [
    "### Question 3"
   ]
  },
  {
   "cell_type": "markdown",
   "metadata": {
    "deletable": true,
    "editable": true
   },
   "source": [
    "### What Happens if we dont expand the dims of image ? Why we need to do it ?\n"
   ]
  },
  {
   "cell_type": "markdown",
   "metadata": {
    "deletable": true,
    "editable": true
   },
   "source": [
    "Answer - "
   ]
  },
  {
   "cell_type": "code",
   "execution_count": null,
   "metadata": {
    "collapsed": false,
    "deletable": true,
    "editable": true
   },
   "outputs": [],
   "source": [
    "image_batch[0][0][0]"
   ]
  },
  {
   "cell_type": "code",
   "execution_count": null,
   "metadata": {
    "collapsed": false,
    "deletable": true,
    "editable": true
   },
   "outputs": [],
   "source": [
    "conv_image = model.predict(image_batch)"
   ]
  },
  {
   "cell_type": "code",
   "execution_count": null,
   "metadata": {
    "collapsed": false,
    "deletable": true,
    "editable": true
   },
   "outputs": [],
   "source": [
    "plt.imshow(np.squeeze(conv_image, axis=0))"
   ]
  },
  {
   "cell_type": "code",
   "execution_count": null,
   "metadata": {
    "collapsed": true,
    "deletable": true,
    "editable": true
   },
   "outputs": [],
   "source": [
    "def visualize_image(model, image):\n",
    "\n",
    "    image_batch = np.expand_dims(image,axis=0)\n",
    "    conv_image = model.predict(image_batch)\n",
    "    \n",
    "    # here we get rid of that added dimension and plot the image\n",
    "    conv_image = np.squeeze(conv_image, axis=0)\n",
    "    \n",
    "    print (conv_image.shape)\n",
    "    plt.imshow(conv_image)"
   ]
  },
  {
   "cell_type": "code",
   "execution_count": null,
   "metadata": {
    "collapsed": true,
    "deletable": true,
    "editable": true
   },
   "outputs": [],
   "source": [
    "def myvisual(image):\n",
    "\n",
    "    image_batch = np.expand_dims(image,axis=0)\n",
    "    conv_image = model.predict(image_batch)\n",
    "    \n",
    "    # here we get rid of that added dimension and plot the image\n",
    "    conv_image = np.squeeze(conv_image, axis=0)\n",
    "    \n",
    "    print (conv_image.shape)\n",
    "    plt.imshow(conv_image)"
   ]
  },
  {
   "cell_type": "code",
   "execution_count": null,
   "metadata": {
    "collapsed": false,
    "deletable": true,
    "editable": true
   },
   "outputs": [],
   "source": [
    "visualize_image(model, image)"
   ]
  },
  {
   "cell_type": "markdown",
   "metadata": {
    "deletable": true,
    "editable": true
   },
   "source": [
    "## Level 4 - Use Your Conv Function to visualize the image"
   ]
  },
  {
   "cell_type": "markdown",
   "metadata": {
    "deletable": true,
    "editable": true
   },
   "source": [
    "### Question 1 - Call your function to perform conv and plot the image obatined "
   ]
  },
  {
   "cell_type": "markdown",
   "metadata": {
    "deletable": true,
    "editable": true
   },
   "source": [
    "## 10x10 Kernel Convimage"
   ]
  },
  {
   "cell_type": "code",
   "execution_count": null,
   "metadata": {
    "collapsed": false,
    "deletable": true,
    "editable": true
   },
   "outputs": [],
   "source": [
    "model = Sequential()\n",
    "model.add(Convolution2D(3,    \n",
    "                        (10,    \n",
    "                        10),    \n",
    "                        input_shape=image.shape))\n",
    "\n",
    "\n",
    "visualize_image(model, image)"
   ]
  },
  {
   "cell_type": "markdown",
   "metadata": {
    "deletable": true,
    "editable": true
   },
   "source": [
    "## Level 5"
   ]
  },
  {
   "cell_type": "markdown",
   "metadata": {
    "deletable": true,
    "editable": true
   },
   "source": [
    "### Question 1"
   ]
  },
  {
   "cell_type": "markdown",
   "metadata": {
    "deletable": true,
    "editable": true
   },
   "source": [
    "### What difference you notice between 3\\*3 and 10\\*10 kernal size ? "
   ]
  },
  {
   "cell_type": "markdown",
   "metadata": {
    "deletable": true,
    "editable": true
   },
   "source": [
    "Answer - "
   ]
  },
  {
   "cell_type": "markdown",
   "metadata": {
    "deletable": true,
    "editable": true
   },
   "source": [
    "### Question 2"
   ]
  },
  {
   "cell_type": "markdown",
   "metadata": {
    "deletable": true,
    "editable": true
   },
   "source": [
    "### What is the reason behing this difference ?"
   ]
  },
  {
   "cell_type": "markdown",
   "metadata": {
    "deletable": true,
    "editable": true
   },
   "source": [
    "Answer -"
   ]
  },
  {
   "cell_type": "markdown",
   "metadata": {
    "deletable": true,
    "editable": true
   },
   "source": [
    "# Play around with code below, to enhance your understading"
   ]
  },
  {
   "cell_type": "markdown",
   "metadata": {
    "deletable": true,
    "editable": true
   },
   "source": [
    "## Another image Vis "
   ]
  },
  {
   "cell_type": "code",
   "execution_count": null,
   "metadata": {
    "collapsed": true,
    "deletable": true,
    "editable": true
   },
   "outputs": [],
   "source": [
    "# Note: matplot lib is pretty inconsistent with how it plots these weird image arrays.\n",
    "\n",
    "def nice_image_printer(model, image):\n",
    "    '''prints the image as a 2d array'''\n",
    "    image_batch = np.expand_dims(image,axis=0)\n",
    "    conv_image2 = model.predict(image_batch)\n",
    "\n",
    "    conv_image2 = np.squeeze(conv_image2, axis=0)\n",
    "    print (conv_image2.shape)\n",
    "    conv_image2 = conv_image2.reshape(conv_image2.shape[:2])\n",
    "\n",
    "    print (conv_image2.shape)\n",
    "    plt.imshow(conv_image2)"
   ]
  },
  {
   "cell_type": "code",
   "execution_count": null,
   "metadata": {
    "collapsed": true,
    "deletable": true,
    "editable": true
   },
   "outputs": [],
   "source": [
    "model = Sequential()\n",
    "model.add(Convolution2D(1,    \n",
    "                        (3,    \n",
    "                        3),    \n",
    "                        input_shape=image.shape))"
   ]
  },
  {
   "cell_type": "code",
   "execution_count": null,
   "metadata": {
    "collapsed": false,
    "deletable": true,
    "editable": true
   },
   "outputs": [],
   "source": [
    "nice_image_printer(model, image)"
   ]
  },
  {
   "cell_type": "markdown",
   "metadata": {
    "deletable": true,
    "editable": true
   },
   "source": [
    "### Question 3"
   ]
  },
  {
   "cell_type": "markdown",
   "metadata": {
    "deletable": true,
    "editable": true
   },
   "source": [
    "### Why this image is different from previous one ?"
   ]
  },
  {
   "cell_type": "markdown",
   "metadata": {
    "deletable": true,
    "editable": true
   },
   "source": [
    "Answer"
   ]
  },
  {
   "cell_type": "markdown",
   "metadata": {
    "deletable": true,
    "editable": true
   },
   "source": [
    "## Increase the kernal size"
   ]
  },
  {
   "cell_type": "code",
   "execution_count": null,
   "metadata": {
    "collapsed": false,
    "deletable": true,
    "editable": true
   },
   "outputs": [],
   "source": [
    "# 15x15 kernel size\n",
    "model = Sequential()\n",
    "model.add(Convolution2D(1,    \n",
    "                        (15,    \n",
    "                        15),   \n",
    "                        input_shape=image.shape))\n",
    "\n",
    "nice_image_printer(model, image)"
   ]
  },
  {
   "cell_type": "markdown",
   "metadata": {
    "deletable": true,
    "editable": true
   },
   "source": [
    "## Adding a Relu Activation"
   ]
  },
  {
   "cell_type": "code",
   "execution_count": null,
   "metadata": {
    "collapsed": true,
    "deletable": true,
    "editable": true
   },
   "outputs": [],
   "source": [
    "model = Sequential()\n",
    "model.add(Convolution2D(1,    \n",
    "                        (3,    \n",
    "                        3),    \n",
    "                        input_shape=image.shape))\n",
    "# Lets add a new activation layer!\n",
    "model.add(Activation('relu'))\n",
    "\n"
   ]
  },
  {
   "cell_type": "code",
   "execution_count": null,
   "metadata": {
    "collapsed": false,
    "deletable": true,
    "editable": true
   },
   "outputs": [],
   "source": [
    "nice_image_printer(model, image)"
   ]
  },
  {
   "cell_type": "markdown",
   "metadata": {
    "deletable": true,
    "editable": true
   },
   "source": [
    "## Adding a Max pool After Relu"
   ]
  },
  {
   "cell_type": "code",
   "execution_count": null,
   "metadata": {
    "collapsed": false,
    "deletable": true,
    "editable": true
   },
   "outputs": [],
   "source": [
    "model = Sequential()\n",
    "model.add(Convolution2D(3,    \n",
    "                        (3,    \n",
    "                        3),    \n",
    "                        input_shape=image.shape))\n",
    "model.add(Activation('relu'))\n",
    "model.add(MaxPooling2D(pool_size=(5,5)))\n",
    "\n",
    "visualize_image(model, image)"
   ]
  },
  {
   "cell_type": "code",
   "execution_count": null,
   "metadata": {
    "collapsed": true,
    "deletable": true,
    "editable": true
   },
   "outputs": [],
   "source": []
  }
 ],
 "metadata": {
  "kernelspec": {
   "display_name": "Python 3",
   "language": "python",
   "name": "python3"
  },
  "language_info": {
   "codemirror_mode": {
    "name": "ipython",
    "version": 3
   },
   "file_extension": ".py",
   "mimetype": "text/x-python",
   "name": "python",
   "nbconvert_exporter": "python",
   "pygments_lexer": "ipython3",
   "version": "3.5.2"
  }
 },
 "nbformat": 4,
 "nbformat_minor": 2
}
