{
 "cells": [
  {
   "cell_type": "code",
   "execution_count": null,
   "metadata": {
    "collapsed": true
   },
   "outputs": [],
   "source": [
    "import cookielib\n",
    "import urllib\n",
    "import urllib2"
   ]
  },
  {
   "cell_type": "code",
   "execution_count": null,
   "metadata": {
    "collapsed": true
   },
   "outputs": [],
   "source": [
    "# set these to whatever your fb account is\n",
    "fb_username = \"your@facebook.login\"\n",
    "fb_password = \"secretpassword\"\n",
    "\n",
    "class WebGamePlayer(object):\n",
    "\n",
    "    def __init__(self, login, password):\n",
    "        \"\"\" Start up... \"\"\"\n",
    "        self.login = login\n",
    "        self.password = password\n",
    "\n",
    "        self.cj = cookielib.CookieJar()\n",
    "        self.opener = urllib2.build_opener(\n",
    "            urllib2.HTTPRedirectHandler(),\n",
    "            urllib2.HTTPHandler(debuglevel=0),\n",
    "            urllib2.HTTPSHandler(debuglevel=0),\n",
    "            urllib2.HTTPCookieProcessor(self.cj)\n",
    "        )\n",
    "        self.opener.addheaders = [\n",
    "            ('User-agent', ('Mozilla/4.0 (compatible; MSIE 6.0; '\n",
    "                           'Windows NT 5.2; .NET CLR 1.1.4322)'))\n",
    "        ]\n",
    "\n",
    "        # need this twice - once to set cookies, once to log in...\n",
    "        self.loginToFacebook()\n",
    "        self.loginToFacebook()\n",
    "\n",
    "    def loginToFacebook(self):\n",
    "        \"\"\"\n",
    "        Handle login. This should populate our cookie jar.\n",
    "        \"\"\"\n",
    "        login_data = urllib.urlencode({\n",
    "            'email' : self.login,\n",
    "            'pass' : self.password,\n",
    "        })\n",
    "        response = self.opener.open(\"https://login.facebook.com/login.php\", login_data)\n",
    "        return ''.join(response.readlines())"
   ]
  }
 ],
 "metadata": {
  "kernelspec": {
   "display_name": "Python 2",
   "language": "python",
   "name": "python2"
  }
 },
 "nbformat": 4,
 "nbformat_minor": 2
}
